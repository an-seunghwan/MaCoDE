{
 "cells": [
  {
   "cell_type": "code",
   "execution_count": 1,
   "metadata": {},
   "outputs": [],
   "source": [
    "import warnings\n",
    "warnings.filterwarnings('ignore')\n",
    "\n",
    "\"\"\"device setting\"\"\"\n",
    "import torch\n",
    "device = torch.device('cuda' if torch.cuda.is_available() else 'cpu')"
   ]
  },
  {
   "cell_type": "code",
   "execution_count": 2,
   "metadata": {},
   "outputs": [],
   "source": [
    "\"\"\"load dataset and specify column types\"\"\"\n",
    "import pandas as pd\n",
    "data = pd.read_csv('./whitewine.csv', delimiter=\";\")\n",
    "columns = list(data.columns)\n",
    "columns.remove(\"quality\")\n",
    "assert data.isna().sum().sum() == 0\n",
    "continuous_features = columns\n",
    "categorical_features = [\"quality\"]\n",
    "integer_features = []\n",
    "\n",
    "### the target column should be the last column\n",
    "data = data[continuous_features + categorical_features] \n",
    "# len(data)\n",
    "\n",
    "\"\"\"training, test, synthetic datasets\"\"\"\n",
    "data[categorical_features] = data[categorical_features].apply(\n",
    "    lambda col: col.astype('category').cat.codes + 1) # pre-processing\n",
    "\n",
    "train = data.iloc[:4000]\n",
    "test = data.iloc[4000:]\n",
    "train = train.reset_index(drop=True)\n",
    "test = test.reset_index(drop=True)"
   ]
  },
  {
   "cell_type": "code",
   "execution_count": 3,
   "metadata": {},
   "outputs": [
    {
     "name": "stdout",
     "output_type": "stream",
     "text": [
      "The number of bins: 100\n"
     ]
    },
    {
     "name": "stderr",
     "output_type": "stream",
     "text": [
      "Tranform Continuous Features...: 100%|██████████| 11/11 [00:00<00:00, 88.67it/s]\n"
     ]
    }
   ],
   "source": [
    "\"\"\"MaCoDE\"\"\"\n",
    "from macode import macode\n",
    "\n",
    "macode = macode.MaCoDE(\n",
    "    data=train, # the observed tabular dataset\n",
    "    continuous_features=continuous_features, # the list of continuous columns of data\n",
    "    categorical_features=categorical_features, # the list of categorical columns of data\n",
    "    integer_features=integer_features, # the list of integer-type columns of data\n",
    "    \n",
    "    seed=42, # seed for repeatable results\n",
    "    bins=100, # the number of bins for discretization\n",
    "    dim_transformer=128, # the embedding size (input dimension size of transformer)\n",
    "    num_transformer_heads=8, # the number of heads in transformer\n",
    "    num_transformer_layer=2, # the number of layers in transformer\n",
    "    \n",
    "    epochs=10, # the number of epochs (for quick checking)\n",
    "    batch_size=1024, # the batch size\n",
    "    lr=0.001, # learning rate\n",
    "    device=device,\n",
    ")"
   ]
  },
  {
   "cell_type": "code",
   "execution_count": 4,
   "metadata": {},
   "outputs": [
    {
     "name": "stderr",
     "output_type": "stream",
     "text": [
      "Training...:  10%|█         | 1/10 [00:02<00:19,  2.21s/it]"
     ]
    },
    {
     "name": "stdout",
     "output_type": "stream",
     "text": [
      "[epoch 001], loss: 50.7411\n"
     ]
    },
    {
     "name": "stderr",
     "output_type": "stream",
     "text": [
      "Training...:  20%|██        | 2/10 [00:03<00:15,  1.96s/it]"
     ]
    },
    {
     "name": "stdout",
     "output_type": "stream",
     "text": [
      "[epoch 002], loss: 47.0614\n"
     ]
    },
    {
     "name": "stderr",
     "output_type": "stream",
     "text": [
      "Training...:  30%|███       | 3/10 [00:05<00:13,  1.88s/it]"
     ]
    },
    {
     "name": "stdout",
     "output_type": "stream",
     "text": [
      "[epoch 003], loss: 45.9010\n"
     ]
    },
    {
     "name": "stderr",
     "output_type": "stream",
     "text": [
      "Training...:  40%|████      | 4/10 [00:07<00:11,  1.88s/it]"
     ]
    },
    {
     "name": "stdout",
     "output_type": "stream",
     "text": [
      "[epoch 004], loss: 45.4095\n"
     ]
    },
    {
     "name": "stderr",
     "output_type": "stream",
     "text": [
      "Training...:  50%|█████     | 5/10 [00:09<00:09,  1.85s/it]"
     ]
    },
    {
     "name": "stdout",
     "output_type": "stream",
     "text": [
      "[epoch 005], loss: 45.0516\n"
     ]
    },
    {
     "name": "stderr",
     "output_type": "stream",
     "text": [
      "Training...:  60%|██████    | 6/10 [00:11<00:07,  1.84s/it]"
     ]
    },
    {
     "name": "stdout",
     "output_type": "stream",
     "text": [
      "[epoch 006], loss: 44.8891\n"
     ]
    },
    {
     "name": "stderr",
     "output_type": "stream",
     "text": [
      "Training...:  70%|███████   | 7/10 [00:13<00:05,  1.83s/it]"
     ]
    },
    {
     "name": "stdout",
     "output_type": "stream",
     "text": [
      "[epoch 007], loss: 44.7241\n"
     ]
    },
    {
     "name": "stderr",
     "output_type": "stream",
     "text": [
      "Training...:  80%|████████  | 8/10 [00:14<00:03,  1.82s/it]"
     ]
    },
    {
     "name": "stdout",
     "output_type": "stream",
     "text": [
      "[epoch 008], loss: 44.7550\n"
     ]
    },
    {
     "name": "stderr",
     "output_type": "stream",
     "text": [
      "Training...:  90%|█████████ | 9/10 [00:16<00:01,  1.82s/it]"
     ]
    },
    {
     "name": "stdout",
     "output_type": "stream",
     "text": [
      "[epoch 009], loss: 44.6026\n"
     ]
    },
    {
     "name": "stderr",
     "output_type": "stream",
     "text": [
      "Training...: 100%|██████████| 10/10 [00:18<00:00,  1.85s/it]"
     ]
    },
    {
     "name": "stdout",
     "output_type": "stream",
     "text": [
      "[epoch 010], loss: 44.5839\n"
     ]
    },
    {
     "name": "stderr",
     "output_type": "stream",
     "text": [
      "\n"
     ]
    }
   ],
   "source": [
    "\"\"\"training\"\"\"\n",
    "macode.train()"
   ]
  },
  {
   "cell_type": "code",
   "execution_count": 5,
   "metadata": {},
   "outputs": [
    {
     "name": "stderr",
     "output_type": "stream",
     "text": [
      "Generate Synthetic Dataset...: 100%|██████████| 63/63 [00:14<00:00,  4.23it/s]\n"
     ]
    },
    {
     "data": {
      "text/html": [
       "<div>\n",
       "<style scoped>\n",
       "    .dataframe tbody tr th:only-of-type {\n",
       "        vertical-align: middle;\n",
       "    }\n",
       "\n",
       "    .dataframe tbody tr th {\n",
       "        vertical-align: top;\n",
       "    }\n",
       "\n",
       "    .dataframe thead th {\n",
       "        text-align: right;\n",
       "    }\n",
       "</style>\n",
       "<table border=\"1\" class=\"dataframe\">\n",
       "  <thead>\n",
       "    <tr style=\"text-align: right;\">\n",
       "      <th></th>\n",
       "      <th>fixed acidity</th>\n",
       "      <th>volatile acidity</th>\n",
       "      <th>citric acid</th>\n",
       "      <th>residual sugar</th>\n",
       "      <th>chlorides</th>\n",
       "      <th>free sulfur dioxide</th>\n",
       "      <th>total sulfur dioxide</th>\n",
       "      <th>density</th>\n",
       "      <th>pH</th>\n",
       "      <th>sulphates</th>\n",
       "      <th>alcohol</th>\n",
       "      <th>quality</th>\n",
       "    </tr>\n",
       "  </thead>\n",
       "  <tbody>\n",
       "    <tr>\n",
       "      <th>0</th>\n",
       "      <td>7.8</td>\n",
       "      <td>0.29</td>\n",
       "      <td>0.320000</td>\n",
       "      <td>9.900000</td>\n",
       "      <td>0.050</td>\n",
       "      <td>46.0</td>\n",
       "      <td>202.000000</td>\n",
       "      <td>0.996800</td>\n",
       "      <td>3.32</td>\n",
       "      <td>0.50</td>\n",
       "      <td>11.0</td>\n",
       "      <td>3</td>\n",
       "    </tr>\n",
       "    <tr>\n",
       "      <th>1</th>\n",
       "      <td>6.9</td>\n",
       "      <td>0.24</td>\n",
       "      <td>0.320000</td>\n",
       "      <td>1.000000</td>\n",
       "      <td>0.038</td>\n",
       "      <td>25.0</td>\n",
       "      <td>122.936468</td>\n",
       "      <td>0.995085</td>\n",
       "      <td>3.14</td>\n",
       "      <td>0.50</td>\n",
       "      <td>12.2</td>\n",
       "      <td>4</td>\n",
       "    </tr>\n",
       "    <tr>\n",
       "      <th>2</th>\n",
       "      <td>7.4</td>\n",
       "      <td>0.24</td>\n",
       "      <td>0.240000</td>\n",
       "      <td>5.100000</td>\n",
       "      <td>0.051</td>\n",
       "      <td>17.0</td>\n",
       "      <td>131.000000</td>\n",
       "      <td>0.994340</td>\n",
       "      <td>3.25</td>\n",
       "      <td>0.54</td>\n",
       "      <td>9.1</td>\n",
       "      <td>5</td>\n",
       "    </tr>\n",
       "    <tr>\n",
       "      <th>3</th>\n",
       "      <td>7.7</td>\n",
       "      <td>0.29</td>\n",
       "      <td>0.156692</td>\n",
       "      <td>1.600000</td>\n",
       "      <td>0.045</td>\n",
       "      <td>34.0</td>\n",
       "      <td>75.000000</td>\n",
       "      <td>0.993500</td>\n",
       "      <td>3.00</td>\n",
       "      <td>0.53</td>\n",
       "      <td>11.2</td>\n",
       "      <td>3</td>\n",
       "    </tr>\n",
       "    <tr>\n",
       "      <th>4</th>\n",
       "      <td>6.8</td>\n",
       "      <td>0.16</td>\n",
       "      <td>0.300000</td>\n",
       "      <td>6.100000</td>\n",
       "      <td>0.016</td>\n",
       "      <td>51.0</td>\n",
       "      <td>93.000000</td>\n",
       "      <td>0.994500</td>\n",
       "      <td>2.97</td>\n",
       "      <td>0.68</td>\n",
       "      <td>11.0</td>\n",
       "      <td>4</td>\n",
       "    </tr>\n",
       "    <tr>\n",
       "      <th>...</th>\n",
       "      <td>...</td>\n",
       "      <td>...</td>\n",
       "      <td>...</td>\n",
       "      <td>...</td>\n",
       "      <td>...</td>\n",
       "      <td>...</td>\n",
       "      <td>...</td>\n",
       "      <td>...</td>\n",
       "      <td>...</td>\n",
       "      <td>...</td>\n",
       "      <td>...</td>\n",
       "      <td>...</td>\n",
       "    </tr>\n",
       "    <tr>\n",
       "      <th>3995</th>\n",
       "      <td>7.5</td>\n",
       "      <td>0.36</td>\n",
       "      <td>0.320000</td>\n",
       "      <td>17.800000</td>\n",
       "      <td>0.046</td>\n",
       "      <td>11.0</td>\n",
       "      <td>140.000000</td>\n",
       "      <td>0.990762</td>\n",
       "      <td>3.17</td>\n",
       "      <td>0.51</td>\n",
       "      <td>10.2</td>\n",
       "      <td>6</td>\n",
       "    </tr>\n",
       "    <tr>\n",
       "      <th>3996</th>\n",
       "      <td>7.4</td>\n",
       "      <td>0.20</td>\n",
       "      <td>0.330000</td>\n",
       "      <td>8.900000</td>\n",
       "      <td>0.043</td>\n",
       "      <td>66.0</td>\n",
       "      <td>157.000000</td>\n",
       "      <td>0.997932</td>\n",
       "      <td>3.36</td>\n",
       "      <td>0.35</td>\n",
       "      <td>9.0</td>\n",
       "      <td>6</td>\n",
       "    </tr>\n",
       "    <tr>\n",
       "      <th>3997</th>\n",
       "      <td>8.7</td>\n",
       "      <td>0.20</td>\n",
       "      <td>0.280000</td>\n",
       "      <td>10.564929</td>\n",
       "      <td>0.036</td>\n",
       "      <td>23.0</td>\n",
       "      <td>247.822232</td>\n",
       "      <td>0.995710</td>\n",
       "      <td>3.14</td>\n",
       "      <td>0.49</td>\n",
       "      <td>10.2</td>\n",
       "      <td>4</td>\n",
       "    </tr>\n",
       "    <tr>\n",
       "      <th>3998</th>\n",
       "      <td>6.4</td>\n",
       "      <td>0.36</td>\n",
       "      <td>0.210000</td>\n",
       "      <td>5.400000</td>\n",
       "      <td>0.035</td>\n",
       "      <td>63.0</td>\n",
       "      <td>174.000000</td>\n",
       "      <td>0.998000</td>\n",
       "      <td>2.97</td>\n",
       "      <td>0.49</td>\n",
       "      <td>11.9</td>\n",
       "      <td>3</td>\n",
       "    </tr>\n",
       "    <tr>\n",
       "      <th>3999</th>\n",
       "      <td>7.4</td>\n",
       "      <td>0.19</td>\n",
       "      <td>0.440000</td>\n",
       "      <td>1.600000</td>\n",
       "      <td>0.039</td>\n",
       "      <td>56.0</td>\n",
       "      <td>104.000000</td>\n",
       "      <td>0.994100</td>\n",
       "      <td>3.05</td>\n",
       "      <td>0.38</td>\n",
       "      <td>9.9</td>\n",
       "      <td>4</td>\n",
       "    </tr>\n",
       "  </tbody>\n",
       "</table>\n",
       "<p>4000 rows × 12 columns</p>\n",
       "</div>"
      ],
      "text/plain": [
       "      fixed acidity  volatile acidity  citric acid  residual sugar  chlorides  \\\n",
       "0               7.8              0.29     0.320000        9.900000      0.050   \n",
       "1               6.9              0.24     0.320000        1.000000      0.038   \n",
       "2               7.4              0.24     0.240000        5.100000      0.051   \n",
       "3               7.7              0.29     0.156692        1.600000      0.045   \n",
       "4               6.8              0.16     0.300000        6.100000      0.016   \n",
       "...             ...               ...          ...             ...        ...   \n",
       "3995            7.5              0.36     0.320000       17.800000      0.046   \n",
       "3996            7.4              0.20     0.330000        8.900000      0.043   \n",
       "3997            8.7              0.20     0.280000       10.564929      0.036   \n",
       "3998            6.4              0.36     0.210000        5.400000      0.035   \n",
       "3999            7.4              0.19     0.440000        1.600000      0.039   \n",
       "\n",
       "      free sulfur dioxide  total sulfur dioxide   density    pH  sulphates  \\\n",
       "0                    46.0            202.000000  0.996800  3.32       0.50   \n",
       "1                    25.0            122.936468  0.995085  3.14       0.50   \n",
       "2                    17.0            131.000000  0.994340  3.25       0.54   \n",
       "3                    34.0             75.000000  0.993500  3.00       0.53   \n",
       "4                    51.0             93.000000  0.994500  2.97       0.68   \n",
       "...                   ...                   ...       ...   ...        ...   \n",
       "3995                 11.0            140.000000  0.990762  3.17       0.51   \n",
       "3996                 66.0            157.000000  0.997932  3.36       0.35   \n",
       "3997                 23.0            247.822232  0.995710  3.14       0.49   \n",
       "3998                 63.0            174.000000  0.998000  2.97       0.49   \n",
       "3999                 56.0            104.000000  0.994100  3.05       0.38   \n",
       "\n",
       "      alcohol  quality  \n",
       "0        11.0        3  \n",
       "1        12.2        4  \n",
       "2         9.1        5  \n",
       "3        11.2        3  \n",
       "4        11.0        4  \n",
       "...       ...      ...  \n",
       "3995     10.2        6  \n",
       "3996      9.0        6  \n",
       "3997     10.2        4  \n",
       "3998     11.9        3  \n",
       "3999      9.9        4  \n",
       "\n",
       "[4000 rows x 12 columns]"
      ]
     },
     "execution_count": 5,
     "metadata": {},
     "output_type": "execute_result"
    }
   ],
   "source": [
    "\"\"\"generate synthetic data\"\"\"\n",
    "syndata = macode.generate_data(n=len(train), tau=1.)\n",
    "syndata"
   ]
  },
  {
   "cell_type": "code",
   "execution_count": 6,
   "metadata": {},
   "outputs": [
    {
     "name": "stdout",
     "output_type": "stream",
     "text": [
      "\n",
      "1. Statistical Fidelity\n",
      "\n",
      "(marginal) KL-Divergence...\n",
      "\n",
      "(marginal) Goodness Of Fit...\n",
      "\n",
      "(joint) MMD...\n",
      "\n",
      "(joint) Cramer-Wold Distance...\n",
      "\n",
      "(joint) alpha-precision, beta-recall...\n",
      "\n",
      "\n",
      "2. Machine Learning Utility\n",
      "\n",
      "Classification downstream task...\n",
      "\n",
      "(Baseline) Classification: Accuracy...\n",
      "[logit] ACC: 0.548\n",
      "[KNN] ACC: 0.506\n",
      "[RBF-SVM] ACC: 0.596\n",
      "[RandomForest] ACC: 0.555\n",
      "[GradBoost] ACC: 0.573\n",
      "[AdaBoost] ACC: 0.467\n",
      "(Synthetic) Classification: Accuracy...\n",
      "[logit] ACC: 0.537\n",
      "[KNN] ACC: 0.383\n",
      "[RBF-SVM] ACC: 0.493\n",
      "[RandomForest] ACC: 0.424\n",
      "[GradBoost] ACC: 0.457\n",
      "[AdaBoost] ACC: 0.360\n",
      "\n",
      "3. Privacy Preservability\n",
      "\n",
      "K-anonimity...\n",
      "\n",
      "K-Map...\n",
      "\n",
      "Distance to Closest Record...\n",
      "\n",
      "Attribute Disclosure...\n",
      "\n"
     ]
    }
   ],
   "source": [
    "\"\"\"Evaluate Synthetic Data Quality\"\"\"\n",
    "from synthetic_eval import evaluation\n",
    "\n",
    "target = \"quality\"\n",
    "results = evaluation.evaluate(\n",
    "    syndata, train, test, \n",
    "    target, continuous_features, categorical_features, device\n",
    ")"
   ]
  },
  {
   "cell_type": "code",
   "execution_count": 7,
   "metadata": {},
   "outputs": [
    {
     "name": "stdout",
     "output_type": "stream",
     "text": [
      "KL: 0.023\n",
      "GoF: 0.017\n",
      "MMD: 0.012\n",
      "CW: 0.045\n",
      "alpha_precision: 0.965\n",
      "beta_recall: 0.075\n",
      "base_cls: 0.541\n",
      "syn_cls: 0.442\n",
      "model_selection: 0.657\n",
      "feature_selection: 0.088\n",
      "Kanon_base: 2.150\n",
      "Kanon_syn: 1.775\n",
      "KMap: 1.700\n",
      "DCR_RS: 0.149\n",
      "DCR_RR: 0.000\n",
      "DCR_SS: 0.150\n",
      "AD: 0.381\n"
     ]
    }
   ],
   "source": [
    "\"\"\"print results\"\"\"\n",
    "for x, y in results._asdict().items():\n",
    "    print(f\"{x}: {y:.3f}\")"
   ]
  },
  {
   "cell_type": "code",
   "execution_count": null,
   "metadata": {},
   "outputs": [],
   "source": []
  }
 ],
 "metadata": {
  "kernelspec": {
   "display_name": "macode",
   "language": "python",
   "name": "python3"
  },
  "language_info": {
   "codemirror_mode": {
    "name": "ipython",
    "version": 3
   },
   "file_extension": ".py",
   "mimetype": "text/x-python",
   "name": "python",
   "nbconvert_exporter": "python",
   "pygments_lexer": "ipython3",
   "version": "3.10.10"
  }
 },
 "nbformat": 4,
 "nbformat_minor": 2
}
