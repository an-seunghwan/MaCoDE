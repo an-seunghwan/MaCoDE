{
 "cells": [
  {
   "cell_type": "code",
   "execution_count": 1,
   "metadata": {},
   "outputs": [],
   "source": [
    "import warnings\n",
    "warnings.filterwarnings('ignore')\n",
    "\n",
    "\"\"\"device setting\"\"\"\n",
    "import torch\n",
    "device = torch.device('cuda' if torch.cuda.is_available() else 'cpu')"
   ]
  },
  {
   "cell_type": "code",
   "execution_count": 2,
   "metadata": {},
   "outputs": [],
   "source": [
    "\"\"\"load dataset and specify column types\"\"\"\n",
    "import pandas as pd\n",
    "data = pd.read_csv('./whitewine.csv', delimiter=\";\")\n",
    "columns = list(data.columns)\n",
    "columns.remove(\"quality\")\n",
    "assert data.isna().sum().sum() == 0\n",
    "continuous_features = columns\n",
    "categorical_features = [\"quality\"]\n",
    "integer_features = []\n",
    "\n",
    "### the target column should be the last column\n",
    "data = data[continuous_features + categorical_features] \n",
    "# len(data)\n",
    "\n",
    "\"\"\"training, test, synthetic datasets\"\"\"\n",
    "data[categorical_features] = data[categorical_features].apply(\n",
    "    lambda col: col.astype('category').cat.codes + 1) # pre-processing\n",
    "\n",
    "train = data.iloc[:4000]\n",
    "test = data.iloc[4000:]\n",
    "train = train.reset_index(drop=True)\n",
    "test = test.reset_index(drop=True)"
   ]
  },
  {
   "cell_type": "code",
   "execution_count": 3,
   "metadata": {},
   "outputs": [
    {
     "name": "stdout",
     "output_type": "stream",
     "text": [
      "[[0. 0. 0. ... 0. 0. 1.]\n",
      " [0. 1. 0. ... 0. 0. 0.]\n",
      " [0. 1. 0. ... 0. 0. 0.]\n",
      " ...\n",
      " [0. 1. 0. ... 0. 0. 0.]\n",
      " [0. 0. 0. ... 0. 0. 0.]\n",
      " [0. 0. 0. ... 0. 0. 1.]]\n",
      "      fixed acidity  volatile acidity  citric acid  residual sugar  chlorides  \\\n",
      "0               7.0              0.27         0.36            20.7      0.045   \n",
      "1               6.3               NaN         0.34             1.6      0.049   \n",
      "2               8.1               NaN         0.40             6.9      0.050   \n",
      "3               7.2              0.23         0.32             8.5        NaN   \n",
      "4               7.2              0.23         0.32             NaN      0.058   \n",
      "...             ...               ...          ...             ...        ...   \n",
      "3995            8.0               NaN          NaN             NaN      0.038   \n",
      "3996            6.7              0.28          NaN             8.9      0.048   \n",
      "3997            6.0               NaN         0.29             3.1      0.041   \n",
      "3998            6.4              0.24         0.49             NaN      0.053   \n",
      "3999            6.4              0.24         0.49             5.8      0.053   \n",
      "\n",
      "      free sulfur dioxide  total sulfur dioxide  density    pH  sulphates  \\\n",
      "0                    45.0                 170.0      NaN   NaN       0.45   \n",
      "1                    14.0                 132.0  0.99400   NaN       0.49   \n",
      "2                    30.0                  97.0  0.99510   NaN       0.44   \n",
      "3                     NaN                   NaN      NaN  3.19       0.40   \n",
      "4                    47.0                 186.0  0.99560  3.19       0.40   \n",
      "...                   ...                   ...      ...   ...        ...   \n",
      "3995                  NaN                 127.0  0.99186  2.90       0.72   \n",
      "3996                 32.0                 111.0  0.99455  3.25       0.54   \n",
      "3997                 37.0                 144.0  0.98944  3.22       0.39   \n",
      "3998                 25.0                 120.0  0.99420  3.01       0.98   \n",
      "3999                 25.0                   NaN  0.99420  3.01       0.98   \n",
      "\n",
      "      alcohol  quality  \n",
      "0         8.8      NaN  \n",
      "1         9.5      4.0  \n",
      "2        10.1      4.0  \n",
      "3         9.9      4.0  \n",
      "4         9.9      NaN  \n",
      "...       ...      ...  \n",
      "3995     12.1      3.0  \n",
      "3996     11.0      5.0  \n",
      "3997     12.8      5.0  \n",
      "3998     10.5      4.0  \n",
      "3999     10.5      NaN  \n",
      "\n",
      "[4000 rows x 12 columns]\n"
     ]
    }
   ],
   "source": [
    "from macode import missing\n",
    "import numpy as np\n",
    "seed = 42 # randomness for generating missingness patterns\n",
    "missing_rate = 0.3 # range: 0 ~ 1 (float)\n",
    "missing_type = \"MAR\" # None(complete data), MCAR, MAR, MNARL, MNARQ\n",
    "\n",
    "mask = missing.generate_mask(\n",
    "    torch.from_numpy(train.values).float(), \n",
    "    missing_rate, \n",
    "    missing_type,\n",
    "    seed=seed\n",
    ")\n",
    "print(mask)\n",
    "train.mask(mask.astype(bool), np.nan, inplace=True)\n",
    "print(train)"
   ]
  },
  {
   "cell_type": "code",
   "execution_count": 4,
   "metadata": {},
   "outputs": [
    {
     "name": "stdout",
     "output_type": "stream",
     "text": [
      "The number of bins: 100\n"
     ]
    },
    {
     "name": "stderr",
     "output_type": "stream",
     "text": [
      "Tranform Continuous Features...: 100%|██████████| 11/11 [00:00<00:00, 126.97it/s]\n"
     ]
    }
   ],
   "source": [
    "\"\"\"MaCoDE\"\"\"\n",
    "from macode import macode\n",
    "\n",
    "macode = macode.MaCoDE(\n",
    "    data=train, # the observed tabular dataset\n",
    "    continuous_features=continuous_features, # the list of continuous columns of data\n",
    "    categorical_features=categorical_features, # the list of categorical columns of data\n",
    "    integer_features=integer_features, # the list of integer-type columns of data\n",
    "    \n",
    "    seed=42, # seed for repeatable results\n",
    "    bins=100, # the number of bins for discretization\n",
    "    dim_transformer=128, # the embedding size (input dimension size of transformer)\n",
    "    num_transformer_heads=8, # the number of heads in transformer\n",
    "    num_transformer_layer=2, # the number of layers in transformer\n",
    "    \n",
    "    epochs=10, # the number of epochs (for quick checking)\n",
    "    batch_size=1024, # the batch size\n",
    "    lr=0.001, # learning rate\n",
    "    device=device,\n",
    ")"
   ]
  },
  {
   "cell_type": "code",
   "execution_count": 5,
   "metadata": {},
   "outputs": [
    {
     "name": "stderr",
     "output_type": "stream",
     "text": [
      "Training...:  10%|█         | 1/10 [00:02<00:21,  2.34s/it]"
     ]
    },
    {
     "name": "stdout",
     "output_type": "stream",
     "text": [
      "[epoch 001], loss: 50.7949\n"
     ]
    },
    {
     "name": "stderr",
     "output_type": "stream",
     "text": [
      "Training...:  20%|██        | 2/10 [00:04<00:16,  2.02s/it]"
     ]
    },
    {
     "name": "stdout",
     "output_type": "stream",
     "text": [
      "[epoch 002], loss: 47.1773\n"
     ]
    },
    {
     "name": "stderr",
     "output_type": "stream",
     "text": [
      "Training...:  30%|███       | 3/10 [00:05<00:13,  1.90s/it]"
     ]
    },
    {
     "name": "stdout",
     "output_type": "stream",
     "text": [
      "[epoch 003], loss: 46.0398\n"
     ]
    },
    {
     "name": "stderr",
     "output_type": "stream",
     "text": [
      "Training...:  40%|████      | 4/10 [00:07<00:11,  1.87s/it]"
     ]
    },
    {
     "name": "stdout",
     "output_type": "stream",
     "text": [
      "[epoch 004], loss: 45.4765\n"
     ]
    },
    {
     "name": "stderr",
     "output_type": "stream",
     "text": [
      "Training...:  50%|█████     | 5/10 [00:09<00:09,  1.91s/it]"
     ]
    },
    {
     "name": "stdout",
     "output_type": "stream",
     "text": [
      "[epoch 005], loss: 45.1733\n"
     ]
    },
    {
     "name": "stderr",
     "output_type": "stream",
     "text": [
      "Training...:  60%|██████    | 6/10 [00:11<00:07,  1.89s/it]"
     ]
    },
    {
     "name": "stdout",
     "output_type": "stream",
     "text": [
      "[epoch 006], loss: 44.9800\n"
     ]
    },
    {
     "name": "stderr",
     "output_type": "stream",
     "text": [
      "Training...:  70%|███████   | 7/10 [00:13<00:05,  1.90s/it]"
     ]
    },
    {
     "name": "stdout",
     "output_type": "stream",
     "text": [
      "[epoch 007], loss: 44.8348\n"
     ]
    },
    {
     "name": "stderr",
     "output_type": "stream",
     "text": [
      "Training...:  80%|████████  | 8/10 [00:15<00:03,  1.98s/it]"
     ]
    },
    {
     "name": "stdout",
     "output_type": "stream",
     "text": [
      "[epoch 008], loss: 44.8856\n"
     ]
    },
    {
     "name": "stderr",
     "output_type": "stream",
     "text": [
      "Training...:  90%|█████████ | 9/10 [00:17<00:01,  2.00s/it]"
     ]
    },
    {
     "name": "stdout",
     "output_type": "stream",
     "text": [
      "[epoch 009], loss: 44.7178\n"
     ]
    },
    {
     "name": "stderr",
     "output_type": "stream",
     "text": [
      "Training...: 100%|██████████| 10/10 [00:19<00:00,  1.95s/it]"
     ]
    },
    {
     "name": "stdout",
     "output_type": "stream",
     "text": [
      "[epoch 010], loss: 44.7022\n"
     ]
    },
    {
     "name": "stderr",
     "output_type": "stream",
     "text": [
      "\n"
     ]
    }
   ],
   "source": [
    "\"\"\"training\"\"\"\n",
    "macode.train()"
   ]
  },
  {
   "cell_type": "code",
   "execution_count": 6,
   "metadata": {},
   "outputs": [
    {
     "data": {
      "text/html": [
       "<div>\n",
       "<style scoped>\n",
       "    .dataframe tbody tr th:only-of-type {\n",
       "        vertical-align: middle;\n",
       "    }\n",
       "\n",
       "    .dataframe tbody tr th {\n",
       "        vertical-align: top;\n",
       "    }\n",
       "\n",
       "    .dataframe thead th {\n",
       "        text-align: right;\n",
       "    }\n",
       "</style>\n",
       "<table border=\"1\" class=\"dataframe\">\n",
       "  <thead>\n",
       "    <tr style=\"text-align: right;\">\n",
       "      <th></th>\n",
       "      <th>fixed acidity</th>\n",
       "      <th>volatile acidity</th>\n",
       "      <th>citric acid</th>\n",
       "      <th>residual sugar</th>\n",
       "      <th>chlorides</th>\n",
       "      <th>free sulfur dioxide</th>\n",
       "      <th>total sulfur dioxide</th>\n",
       "      <th>density</th>\n",
       "      <th>pH</th>\n",
       "      <th>sulphates</th>\n",
       "      <th>alcohol</th>\n",
       "      <th>quality</th>\n",
       "    </tr>\n",
       "  </thead>\n",
       "  <tbody>\n",
       "    <tr>\n",
       "      <th>0</th>\n",
       "      <td>7.0</td>\n",
       "      <td>0.27</td>\n",
       "      <td>0.360000</td>\n",
       "      <td>20.7</td>\n",
       "      <td>0.045</td>\n",
       "      <td>45.0</td>\n",
       "      <td>170.0</td>\n",
       "      <td>0.993900</td>\n",
       "      <td>3.07</td>\n",
       "      <td>0.45</td>\n",
       "      <td>8.8</td>\n",
       "      <td>3.0</td>\n",
       "    </tr>\n",
       "    <tr>\n",
       "      <th>1</th>\n",
       "      <td>6.3</td>\n",
       "      <td>0.22</td>\n",
       "      <td>0.340000</td>\n",
       "      <td>1.6</td>\n",
       "      <td>0.049</td>\n",
       "      <td>14.0</td>\n",
       "      <td>132.0</td>\n",
       "      <td>0.994000</td>\n",
       "      <td>3.03</td>\n",
       "      <td>0.49</td>\n",
       "      <td>9.5</td>\n",
       "      <td>4.0</td>\n",
       "    </tr>\n",
       "    <tr>\n",
       "      <th>2</th>\n",
       "      <td>8.1</td>\n",
       "      <td>0.20</td>\n",
       "      <td>0.400000</td>\n",
       "      <td>6.9</td>\n",
       "      <td>0.050</td>\n",
       "      <td>30.0</td>\n",
       "      <td>97.0</td>\n",
       "      <td>0.995100</td>\n",
       "      <td>3.11</td>\n",
       "      <td>0.44</td>\n",
       "      <td>10.1</td>\n",
       "      <td>4.0</td>\n",
       "    </tr>\n",
       "    <tr>\n",
       "      <th>3</th>\n",
       "      <td>7.2</td>\n",
       "      <td>0.23</td>\n",
       "      <td>0.320000</td>\n",
       "      <td>8.5</td>\n",
       "      <td>0.049</td>\n",
       "      <td>35.0</td>\n",
       "      <td>212.5</td>\n",
       "      <td>0.989914</td>\n",
       "      <td>3.19</td>\n",
       "      <td>0.40</td>\n",
       "      <td>9.9</td>\n",
       "      <td>4.0</td>\n",
       "    </tr>\n",
       "    <tr>\n",
       "      <th>4</th>\n",
       "      <td>7.2</td>\n",
       "      <td>0.23</td>\n",
       "      <td>0.320000</td>\n",
       "      <td>1.1</td>\n",
       "      <td>0.058</td>\n",
       "      <td>47.0</td>\n",
       "      <td>186.0</td>\n",
       "      <td>0.995600</td>\n",
       "      <td>3.19</td>\n",
       "      <td>0.40</td>\n",
       "      <td>9.9</td>\n",
       "      <td>4.0</td>\n",
       "    </tr>\n",
       "    <tr>\n",
       "      <th>...</th>\n",
       "      <td>...</td>\n",
       "      <td>...</td>\n",
       "      <td>...</td>\n",
       "      <td>...</td>\n",
       "      <td>...</td>\n",
       "      <td>...</td>\n",
       "      <td>...</td>\n",
       "      <td>...</td>\n",
       "      <td>...</td>\n",
       "      <td>...</td>\n",
       "      <td>...</td>\n",
       "      <td>...</td>\n",
       "    </tr>\n",
       "    <tr>\n",
       "      <th>3995</th>\n",
       "      <td>8.0</td>\n",
       "      <td>0.20</td>\n",
       "      <td>0.290000</td>\n",
       "      <td>1.5</td>\n",
       "      <td>0.038</td>\n",
       "      <td>42.0</td>\n",
       "      <td>127.0</td>\n",
       "      <td>0.991860</td>\n",
       "      <td>2.90</td>\n",
       "      <td>0.72</td>\n",
       "      <td>12.1</td>\n",
       "      <td>3.0</td>\n",
       "    </tr>\n",
       "    <tr>\n",
       "      <th>3996</th>\n",
       "      <td>6.7</td>\n",
       "      <td>0.28</td>\n",
       "      <td>0.984721</td>\n",
       "      <td>8.9</td>\n",
       "      <td>0.048</td>\n",
       "      <td>32.0</td>\n",
       "      <td>111.0</td>\n",
       "      <td>0.994550</td>\n",
       "      <td>3.25</td>\n",
       "      <td>0.54</td>\n",
       "      <td>11.0</td>\n",
       "      <td>5.0</td>\n",
       "    </tr>\n",
       "    <tr>\n",
       "      <th>3997</th>\n",
       "      <td>6.0</td>\n",
       "      <td>0.55</td>\n",
       "      <td>0.290000</td>\n",
       "      <td>3.1</td>\n",
       "      <td>0.041</td>\n",
       "      <td>37.0</td>\n",
       "      <td>144.0</td>\n",
       "      <td>0.989440</td>\n",
       "      <td>3.22</td>\n",
       "      <td>0.39</td>\n",
       "      <td>12.8</td>\n",
       "      <td>5.0</td>\n",
       "    </tr>\n",
       "    <tr>\n",
       "      <th>3998</th>\n",
       "      <td>6.4</td>\n",
       "      <td>0.24</td>\n",
       "      <td>0.490000</td>\n",
       "      <td>14.9</td>\n",
       "      <td>0.053</td>\n",
       "      <td>25.0</td>\n",
       "      <td>120.0</td>\n",
       "      <td>0.994200</td>\n",
       "      <td>3.01</td>\n",
       "      <td>0.98</td>\n",
       "      <td>10.5</td>\n",
       "      <td>4.0</td>\n",
       "    </tr>\n",
       "    <tr>\n",
       "      <th>3999</th>\n",
       "      <td>6.4</td>\n",
       "      <td>0.24</td>\n",
       "      <td>0.490000</td>\n",
       "      <td>5.8</td>\n",
       "      <td>0.053</td>\n",
       "      <td>25.0</td>\n",
       "      <td>121.0</td>\n",
       "      <td>0.994200</td>\n",
       "      <td>3.01</td>\n",
       "      <td>0.98</td>\n",
       "      <td>10.5</td>\n",
       "      <td>4.0</td>\n",
       "    </tr>\n",
       "  </tbody>\n",
       "</table>\n",
       "<p>4000 rows × 12 columns</p>\n",
       "</div>"
      ],
      "text/plain": [
       "      fixed acidity  volatile acidity  citric acid  residual sugar  chlorides  \\\n",
       "0               7.0              0.27     0.360000            20.7      0.045   \n",
       "1               6.3              0.22     0.340000             1.6      0.049   \n",
       "2               8.1              0.20     0.400000             6.9      0.050   \n",
       "3               7.2              0.23     0.320000             8.5      0.049   \n",
       "4               7.2              0.23     0.320000             1.1      0.058   \n",
       "...             ...               ...          ...             ...        ...   \n",
       "3995            8.0              0.20     0.290000             1.5      0.038   \n",
       "3996            6.7              0.28     0.984721             8.9      0.048   \n",
       "3997            6.0              0.55     0.290000             3.1      0.041   \n",
       "3998            6.4              0.24     0.490000            14.9      0.053   \n",
       "3999            6.4              0.24     0.490000             5.8      0.053   \n",
       "\n",
       "      free sulfur dioxide  total sulfur dioxide   density    pH  sulphates  \\\n",
       "0                    45.0                 170.0  0.993900  3.07       0.45   \n",
       "1                    14.0                 132.0  0.994000  3.03       0.49   \n",
       "2                    30.0                  97.0  0.995100  3.11       0.44   \n",
       "3                    35.0                 212.5  0.989914  3.19       0.40   \n",
       "4                    47.0                 186.0  0.995600  3.19       0.40   \n",
       "...                   ...                   ...       ...   ...        ...   \n",
       "3995                 42.0                 127.0  0.991860  2.90       0.72   \n",
       "3996                 32.0                 111.0  0.994550  3.25       0.54   \n",
       "3997                 37.0                 144.0  0.989440  3.22       0.39   \n",
       "3998                 25.0                 120.0  0.994200  3.01       0.98   \n",
       "3999                 25.0                 121.0  0.994200  3.01       0.98   \n",
       "\n",
       "      alcohol  quality  \n",
       "0         8.8      3.0  \n",
       "1         9.5      4.0  \n",
       "2        10.1      4.0  \n",
       "3         9.9      4.0  \n",
       "4         9.9      4.0  \n",
       "...       ...      ...  \n",
       "3995     12.1      3.0  \n",
       "3996     11.0      5.0  \n",
       "3997     12.8      5.0  \n",
       "3998     10.5      4.0  \n",
       "3999     10.5      4.0  \n",
       "\n",
       "[4000 rows x 12 columns]"
      ]
     },
     "execution_count": 6,
     "metadata": {},
     "output_type": "execute_result"
    }
   ],
   "source": [
    "\"\"\"missing data imputation\"\"\"\n",
    "imputed = macode.impute(tau=1.)\n",
    "imputed"
   ]
  },
  {
   "cell_type": "code",
   "execution_count": 11,
   "metadata": {},
   "outputs": [
    {
     "name": "stdout",
     "output_type": "stream",
     "text": [
      "\n",
      "1. Statistical Fidelity\n",
      "\n",
      "(marginal) KL-Divergence...\n",
      "\n",
      "(marginal) Goodness Of Fit...\n",
      "\n",
      "(joint) MMD...\n",
      "\n",
      "(joint) Cramer-Wold Distance...\n",
      "\n",
      "(joint) alpha-precision, beta-recall...\n",
      "\n",
      "\n",
      "2. Machine Learning Utility\n",
      "\n",
      "Classification downstream task...\n",
      "\n",
      "(Baseline) Classification: Accuracy...\n",
      "[logit] ACC: 0.548\n",
      "[KNN] ACC: 0.506\n",
      "[RBF-SVM] ACC: 0.596\n",
      "[RandomForest] ACC: 0.555\n",
      "[GradBoost] ACC: 0.573\n",
      "[AdaBoost] ACC: 0.467\n",
      "(Synthetic) Classification: Accuracy...\n",
      "[logit] ACC: 0.530\n",
      "[KNN] ACC: 0.442\n",
      "[RBF-SVM] ACC: 0.545\n",
      "[RandomForest] ACC: 0.512\n",
      "[GradBoost] ACC: 0.538\n",
      "[AdaBoost] ACC: 0.382\n",
      "\n",
      "3. Privacy Preservability\n",
      "\n",
      "K-anonimity...\n",
      "\n",
      "K-Map...\n",
      "\n",
      "Distance to Closest Record...\n",
      "\n",
      "Attribute Disclosure...\n",
      "\n"
     ]
    }
   ],
   "source": [
    "\"\"\"Evaluate Synthetic Data Quality\"\"\"\n",
    "from synthetic_eval import evaluation\n",
    "\n",
    "true = data.iloc[:4000] # original training dataset\n",
    "target = \"quality\"\n",
    "results = evaluation.evaluate(\n",
    "    imputed, true, test, \n",
    "    target, continuous_features, categorical_features, device\n",
    ")"
   ]
  },
  {
   "cell_type": "code",
   "execution_count": 12,
   "metadata": {},
   "outputs": [
    {
     "name": "stdout",
     "output_type": "stream",
     "text": [
      "KL: 0.011\n",
      "GoF: 0.027\n",
      "MMD: 0.016\n",
      "CW: 0.034\n",
      "alpha_precision: 0.981\n",
      "beta_recall: 0.355\n",
      "base_cls: 0.541\n",
      "syn_cls: 0.491\n",
      "model_selection: 0.943\n",
      "feature_selection: 0.527\n",
      "Kanon_base: 2.150\n",
      "Kanon_syn: 1.175\n",
      "KMap: 1.150\n",
      "DCR_RS: 0.006\n",
      "DCR_RR: 0.000\n",
      "DCR_SS: 0.135\n",
      "AD: 0.589\n"
     ]
    }
   ],
   "source": [
    "\"\"\"print results\"\"\"\n",
    "for x, y in results._asdict().items():\n",
    "    print(f\"{x}: {y:.3f}\")"
   ]
  },
  {
   "cell_type": "code",
   "execution_count": null,
   "metadata": {},
   "outputs": [],
   "source": []
  }
 ],
 "metadata": {
  "kernelspec": {
   "display_name": "deep",
   "language": "python",
   "name": "python3"
  },
  "language_info": {
   "codemirror_mode": {
    "name": "ipython",
    "version": 3
   },
   "file_extension": ".py",
   "mimetype": "text/x-python",
   "name": "python",
   "nbconvert_exporter": "python",
   "pygments_lexer": "ipython3",
   "version": "3.10.10"
  }
 },
 "nbformat": 4,
 "nbformat_minor": 2
}
